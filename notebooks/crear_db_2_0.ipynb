{
 "cells": [
  {
   "cell_type": "code",
   "execution_count": 1,
   "metadata": {},
   "outputs": [],
   "source": [
    "import pandas as pd\n",
    "import warnings\n",
    "warnings.filterwarnings('ignore')"
   ]
  },
  {
   "cell_type": "code",
   "execution_count": 2,
   "metadata": {},
   "outputs": [],
   "source": [
    "import sqlite3\n",
    "# descargar el database de kaggle: https://www.kaggle.com/datasets/hugomathien/soccer\n",
    "address = '../data/database.sqlite'\n",
    "con = sqlite3.connect(address)"
   ]
  },
  {
   "cell_type": "code",
   "execution_count": 3,
   "metadata": {},
   "outputs": [],
   "source": [
    "# Creamos un df con todos los datos que nos interesan\n",
    "\n",
    "df_partidos = pd.read_sql(\"\"\"SELECT season,\n",
    "                                date,\n",
    "                                Country.name AS country_name,                                 \n",
    "                                HT.team_long_name AS home_team,\n",
    "                                AT.team_long_name AS away_team,\n",
    "                                home_team_goal,\n",
    "                                away_team_goal                                    \n",
    "                                    FROM Match\n",
    "                                    JOIN Country on Country.id = Match.country_id\n",
    "                                    JOIN League on League.id = Match.league_id\n",
    "                                    LEFT JOIN Team AS HT on HT.team_api_id = Match.home_team_api_id\n",
    "                                    LEFT JOIN Team AS AT on AT.team_api_id = Match.away_team_api_id\n",
    "                                WHERE Country.name = \"Spain\"\n",
    "                                \"\"\", con)"
   ]
  },
  {
   "cell_type": "markdown",
   "metadata": {},
   "source": [
    "-----\n",
    "Ver cómo ha quedado el df"
   ]
  },
  {
   "cell_type": "code",
   "execution_count": 4,
   "metadata": {},
   "outputs": [],
   "source": [
    "pd.options.display.max_columns = None "
   ]
  },
  {
   "cell_type": "code",
   "execution_count": 5,
   "metadata": {},
   "outputs": [
    {
     "data": {
      "text/html": [
       "<div>\n",
       "<style scoped>\n",
       "    .dataframe tbody tr th:only-of-type {\n",
       "        vertical-align: middle;\n",
       "    }\n",
       "\n",
       "    .dataframe tbody tr th {\n",
       "        vertical-align: top;\n",
       "    }\n",
       "\n",
       "    .dataframe thead th {\n",
       "        text-align: right;\n",
       "    }\n",
       "</style>\n",
       "<table border=\"1\" class=\"dataframe\">\n",
       "  <thead>\n",
       "    <tr style=\"text-align: right;\">\n",
       "      <th></th>\n",
       "      <th>season</th>\n",
       "      <th>date</th>\n",
       "      <th>country_name</th>\n",
       "      <th>home_team</th>\n",
       "      <th>away_team</th>\n",
       "      <th>home_team_goal</th>\n",
       "      <th>away_team_goal</th>\n",
       "    </tr>\n",
       "  </thead>\n",
       "  <tbody>\n",
       "    <tr>\n",
       "      <th>0</th>\n",
       "      <td>2008/2009</td>\n",
       "      <td>2008-08-30 00:00:00</td>\n",
       "      <td>Spain</td>\n",
       "      <td>Valencia CF</td>\n",
       "      <td>RCD Mallorca</td>\n",
       "      <td>3</td>\n",
       "      <td>0</td>\n",
       "    </tr>\n",
       "    <tr>\n",
       "      <th>1</th>\n",
       "      <td>2008/2009</td>\n",
       "      <td>2008-08-31 00:00:00</td>\n",
       "      <td>Spain</td>\n",
       "      <td>CA Osasuna</td>\n",
       "      <td>Villarreal CF</td>\n",
       "      <td>1</td>\n",
       "      <td>1</td>\n",
       "    </tr>\n",
       "    <tr>\n",
       "      <th>2</th>\n",
       "      <td>2008/2009</td>\n",
       "      <td>2008-08-31 00:00:00</td>\n",
       "      <td>Spain</td>\n",
       "      <td>RC Deportivo de La Coruña</td>\n",
       "      <td>Real Madrid CF</td>\n",
       "      <td>2</td>\n",
       "      <td>1</td>\n",
       "    </tr>\n",
       "    <tr>\n",
       "      <th>3</th>\n",
       "      <td>2008/2009</td>\n",
       "      <td>2008-08-31 00:00:00</td>\n",
       "      <td>Spain</td>\n",
       "      <td>CD Numancia</td>\n",
       "      <td>FC Barcelona</td>\n",
       "      <td>1</td>\n",
       "      <td>0</td>\n",
       "    </tr>\n",
       "    <tr>\n",
       "      <th>4</th>\n",
       "      <td>2008/2009</td>\n",
       "      <td>2008-08-31 00:00:00</td>\n",
       "      <td>Spain</td>\n",
       "      <td>Racing Santander</td>\n",
       "      <td>Sevilla FC</td>\n",
       "      <td>1</td>\n",
       "      <td>1</td>\n",
       "    </tr>\n",
       "  </tbody>\n",
       "</table>\n",
       "</div>"
      ],
      "text/plain": [
       "      season                 date country_name                  home_team  \\\n",
       "0  2008/2009  2008-08-30 00:00:00        Spain                Valencia CF   \n",
       "1  2008/2009  2008-08-31 00:00:00        Spain                 CA Osasuna   \n",
       "2  2008/2009  2008-08-31 00:00:00        Spain  RC Deportivo de La Coruña   \n",
       "3  2008/2009  2008-08-31 00:00:00        Spain                CD Numancia   \n",
       "4  2008/2009  2008-08-31 00:00:00        Spain           Racing Santander   \n",
       "\n",
       "        away_team  home_team_goal  away_team_goal  \n",
       "0    RCD Mallorca               3               0  \n",
       "1   Villarreal CF               1               1  \n",
       "2  Real Madrid CF               2               1  \n",
       "3    FC Barcelona               1               0  \n",
       "4      Sevilla FC               1               1  "
      ]
     },
     "execution_count": 5,
     "metadata": {},
     "output_type": "execute_result"
    }
   ],
   "source": [
    "df_partidos.head()"
   ]
  },
  {
   "cell_type": "code",
   "execution_count": 6,
   "metadata": {},
   "outputs": [
    {
     "name": "stdout",
     "output_type": "stream",
     "text": [
      "<class 'pandas.core.frame.DataFrame'>\n",
      "RangeIndex: 3040 entries, 0 to 3039\n",
      "Data columns (total 7 columns):\n",
      " #   Column          Non-Null Count  Dtype \n",
      "---  ------          --------------  ----- \n",
      " 0   season          3040 non-null   object\n",
      " 1   date            3040 non-null   object\n",
      " 2   country_name    3040 non-null   object\n",
      " 3   home_team       3040 non-null   object\n",
      " 4   away_team       3040 non-null   object\n",
      " 5   home_team_goal  3040 non-null   int64 \n",
      " 6   away_team_goal  3040 non-null   int64 \n",
      "dtypes: int64(2), object(5)\n",
      "memory usage: 166.4+ KB\n"
     ]
    }
   ],
   "source": [
    "# Vemos que hay 1 partido con NaN en las apuestas, por lo que lo quitamos para que no dé problemas\n",
    "df_partidos.info()"
   ]
  },
  {
   "cell_type": "code",
   "execution_count": 7,
   "metadata": {},
   "outputs": [
    {
     "data": {
      "text/plain": [
       "array(['2008/2009', '2009/2010', '2010/2011', '2011/2012', '2012/2013',\n",
       "       '2013/2014', '2014/2015', '2015/2016'], dtype=object)"
      ]
     },
     "execution_count": 7,
     "metadata": {},
     "output_type": "execute_result"
    }
   ],
   "source": [
    "# Ver cúantas temporadas tenemos\n",
    "df_partidos['season'].unique()"
   ]
  },
  {
   "cell_type": "code",
   "execution_count": 8,
   "metadata": {},
   "outputs": [
    {
     "data": {
      "text/plain": [
       "array(['Athletic Club de Bilbao', 'Atlético Madrid', 'CA Osasuna',\n",
       "       'CD Numancia', 'CD Tenerife', 'Córdoba CF', 'Elche CF',\n",
       "       'FC Barcelona', 'Getafe CF', 'Granada CF',\n",
       "       'Hércules Club de Fútbol', 'Levante UD', 'Málaga CF',\n",
       "       'RC Celta de Vigo', 'RC Deportivo de La Coruña', 'RC Recreativo',\n",
       "       'RCD Espanyol', 'RCD Mallorca', 'Racing Santander',\n",
       "       'Rayo Vallecano', 'Real Betis Balompié', 'Real Madrid CF',\n",
       "       'Real Sociedad', 'Real Sporting de Gijón', 'Real Valladolid',\n",
       "       'Real Zaragoza', 'SD Eibar', 'Sevilla FC', 'UD Almería',\n",
       "       'UD Las Palmas', 'Valencia CF', 'Villarreal CF',\n",
       "       'Xerez Club Deportivo'], dtype=object)"
      ]
     },
     "execution_count": 8,
     "metadata": {},
     "output_type": "execute_result"
    }
   ],
   "source": [
    "# Lista de equipos\n",
    "equipos=df_partidos['home_team'].unique()\n",
    "equipos.sort()\n",
    "equipos\n"
   ]
  },
  {
   "cell_type": "code",
   "execution_count": 9,
   "metadata": {},
   "outputs": [
    {
     "name": "stdout",
     "output_type": "stream",
     "text": [
      "Número de equipos: 33\n"
     ]
    }
   ],
   "source": [
    "print(\"Número de equipos: {}\".format(df_partidos['home_team'].nunique()))"
   ]
  },
  {
   "cell_type": "code",
   "execution_count": 10,
   "metadata": {},
   "outputs": [],
   "source": [
    "# 1. Vemos que hay un partido con NaN en las apuestas, por lo que lo quitamos para que no dé problemas\n",
    "\n",
    "# 2. Vemos que en la fecha el horario está vacío en todos los partidos 00:00:00, así que procedemos a quitarlo."
   ]
  },
  {
   "cell_type": "markdown",
   "metadata": {},
   "source": [
    "-----"
   ]
  },
  {
   "cell_type": "code",
   "execution_count": 11,
   "metadata": {},
   "outputs": [
    {
     "name": "stdout",
     "output_type": "stream",
     "text": [
      "<class 'pandas.core.frame.DataFrame'>\n",
      "Int64Index: 3040 entries, 0 to 3039\n",
      "Data columns (total 7 columns):\n",
      " #   Column          Non-Null Count  Dtype \n",
      "---  ------          --------------  ----- \n",
      " 0   season          3040 non-null   object\n",
      " 1   date            3040 non-null   object\n",
      " 2   country_name    3040 non-null   object\n",
      " 3   home_team       3040 non-null   object\n",
      " 4   away_team       3040 non-null   object\n",
      " 5   home_team_goal  3040 non-null   int64 \n",
      " 6   away_team_goal  3040 non-null   int64 \n",
      "dtypes: int64(2), object(5)\n",
      "memory usage: 190.0+ KB\n"
     ]
    }
   ],
   "source": [
    "# Quitar el valor NaN\n",
    "df_partidos=df_partidos.dropna()\n",
    "df_partidos.info()"
   ]
  },
  {
   "cell_type": "code",
   "execution_count": 12,
   "metadata": {},
   "outputs": [
    {
     "data": {
      "text/html": [
       "<div>\n",
       "<style scoped>\n",
       "    .dataframe tbody tr th:only-of-type {\n",
       "        vertical-align: middle;\n",
       "    }\n",
       "\n",
       "    .dataframe tbody tr th {\n",
       "        vertical-align: top;\n",
       "    }\n",
       "\n",
       "    .dataframe thead th {\n",
       "        text-align: right;\n",
       "    }\n",
       "</style>\n",
       "<table border=\"1\" class=\"dataframe\">\n",
       "  <thead>\n",
       "    <tr style=\"text-align: right;\">\n",
       "      <th></th>\n",
       "      <th>season</th>\n",
       "      <th>date</th>\n",
       "      <th>country_name</th>\n",
       "      <th>home_team</th>\n",
       "      <th>away_team</th>\n",
       "      <th>home_team_goal</th>\n",
       "      <th>away_team_goal</th>\n",
       "    </tr>\n",
       "  </thead>\n",
       "  <tbody>\n",
       "    <tr>\n",
       "      <th>0</th>\n",
       "      <td>2008/2009</td>\n",
       "      <td>2008-08-30</td>\n",
       "      <td>Spain</td>\n",
       "      <td>Valencia CF</td>\n",
       "      <td>RCD Mallorca</td>\n",
       "      <td>3</td>\n",
       "      <td>0</td>\n",
       "    </tr>\n",
       "    <tr>\n",
       "      <th>1</th>\n",
       "      <td>2008/2009</td>\n",
       "      <td>2008-08-31</td>\n",
       "      <td>Spain</td>\n",
       "      <td>CA Osasuna</td>\n",
       "      <td>Villarreal CF</td>\n",
       "      <td>1</td>\n",
       "      <td>1</td>\n",
       "    </tr>\n",
       "    <tr>\n",
       "      <th>2</th>\n",
       "      <td>2008/2009</td>\n",
       "      <td>2008-08-31</td>\n",
       "      <td>Spain</td>\n",
       "      <td>RC Deportivo de La Coruña</td>\n",
       "      <td>Real Madrid CF</td>\n",
       "      <td>2</td>\n",
       "      <td>1</td>\n",
       "    </tr>\n",
       "    <tr>\n",
       "      <th>3</th>\n",
       "      <td>2008/2009</td>\n",
       "      <td>2008-08-31</td>\n",
       "      <td>Spain</td>\n",
       "      <td>CD Numancia</td>\n",
       "      <td>FC Barcelona</td>\n",
       "      <td>1</td>\n",
       "      <td>0</td>\n",
       "    </tr>\n",
       "    <tr>\n",
       "      <th>4</th>\n",
       "      <td>2008/2009</td>\n",
       "      <td>2008-08-31</td>\n",
       "      <td>Spain</td>\n",
       "      <td>Racing Santander</td>\n",
       "      <td>Sevilla FC</td>\n",
       "      <td>1</td>\n",
       "      <td>1</td>\n",
       "    </tr>\n",
       "  </tbody>\n",
       "</table>\n",
       "</div>"
      ],
      "text/plain": [
       "      season        date country_name                  home_team  \\\n",
       "0  2008/2009  2008-08-30        Spain                Valencia CF   \n",
       "1  2008/2009  2008-08-31        Spain                 CA Osasuna   \n",
       "2  2008/2009  2008-08-31        Spain  RC Deportivo de La Coruña   \n",
       "3  2008/2009  2008-08-31        Spain                CD Numancia   \n",
       "4  2008/2009  2008-08-31        Spain           Racing Santander   \n",
       "\n",
       "        away_team  home_team_goal  away_team_goal  \n",
       "0    RCD Mallorca               3               0  \n",
       "1   Villarreal CF               1               1  \n",
       "2  Real Madrid CF               2               1  \n",
       "3    FC Barcelona               1               0  \n",
       "4      Sevilla FC               1               1  "
      ]
     },
     "execution_count": 12,
     "metadata": {},
     "output_type": "execute_result"
    }
   ],
   "source": [
    "# Quitar hh:mm:ss de 'date'\n",
    "df_partidos['date']=df_partidos['date'].replace({\" 00:00:00\":\"\"}, regex=True)\n",
    "df_partidos.head()"
   ]
  },
  {
   "cell_type": "markdown",
   "metadata": {},
   "source": [
    "-------\n"
   ]
  },
  {
   "cell_type": "code",
   "execution_count": 13,
   "metadata": {},
   "outputs": [],
   "source": [
    "# Creación de la columna 'results'"
   ]
  },
  {
   "cell_type": "code",
   "execution_count": 14,
   "metadata": {},
   "outputs": [],
   "source": [
    "# Victoria del equipo local = 1\n",
    "# Victoria del equipo visitante = 2\n",
    "# Empate = 0\n",
    "\n",
    "def result (row):\n",
    "    if row['home_team_goal'] > row['away_team_goal']:\n",
    "        return 1\n",
    "    if row['home_team_goal'] == row['away_team_goal']:\n",
    "        return 0\n",
    "    if row['home_team_goal'] < row['away_team_goal']:\n",
    "        return 2"
   ]
  },
  {
   "cell_type": "code",
   "execution_count": 15,
   "metadata": {},
   "outputs": [
    {
     "data": {
      "text/html": [
       "<div>\n",
       "<style scoped>\n",
       "    .dataframe tbody tr th:only-of-type {\n",
       "        vertical-align: middle;\n",
       "    }\n",
       "\n",
       "    .dataframe tbody tr th {\n",
       "        vertical-align: top;\n",
       "    }\n",
       "\n",
       "    .dataframe thead th {\n",
       "        text-align: right;\n",
       "    }\n",
       "</style>\n",
       "<table border=\"1\" class=\"dataframe\">\n",
       "  <thead>\n",
       "    <tr style=\"text-align: right;\">\n",
       "      <th></th>\n",
       "      <th>season</th>\n",
       "      <th>date</th>\n",
       "      <th>country_name</th>\n",
       "      <th>home_team</th>\n",
       "      <th>away_team</th>\n",
       "      <th>home_team_goal</th>\n",
       "      <th>away_team_goal</th>\n",
       "      <th>result</th>\n",
       "    </tr>\n",
       "  </thead>\n",
       "  <tbody>\n",
       "    <tr>\n",
       "      <th>0</th>\n",
       "      <td>2008/2009</td>\n",
       "      <td>2008-08-30</td>\n",
       "      <td>Spain</td>\n",
       "      <td>Valencia CF</td>\n",
       "      <td>RCD Mallorca</td>\n",
       "      <td>3</td>\n",
       "      <td>0</td>\n",
       "      <td>1</td>\n",
       "    </tr>\n",
       "    <tr>\n",
       "      <th>1</th>\n",
       "      <td>2008/2009</td>\n",
       "      <td>2008-08-31</td>\n",
       "      <td>Spain</td>\n",
       "      <td>CA Osasuna</td>\n",
       "      <td>Villarreal CF</td>\n",
       "      <td>1</td>\n",
       "      <td>1</td>\n",
       "      <td>0</td>\n",
       "    </tr>\n",
       "    <tr>\n",
       "      <th>2</th>\n",
       "      <td>2008/2009</td>\n",
       "      <td>2008-08-31</td>\n",
       "      <td>Spain</td>\n",
       "      <td>RC Deportivo de La Coruña</td>\n",
       "      <td>Real Madrid CF</td>\n",
       "      <td>2</td>\n",
       "      <td>1</td>\n",
       "      <td>1</td>\n",
       "    </tr>\n",
       "    <tr>\n",
       "      <th>3</th>\n",
       "      <td>2008/2009</td>\n",
       "      <td>2008-08-31</td>\n",
       "      <td>Spain</td>\n",
       "      <td>CD Numancia</td>\n",
       "      <td>FC Barcelona</td>\n",
       "      <td>1</td>\n",
       "      <td>0</td>\n",
       "      <td>1</td>\n",
       "    </tr>\n",
       "    <tr>\n",
       "      <th>4</th>\n",
       "      <td>2008/2009</td>\n",
       "      <td>2008-08-31</td>\n",
       "      <td>Spain</td>\n",
       "      <td>Racing Santander</td>\n",
       "      <td>Sevilla FC</td>\n",
       "      <td>1</td>\n",
       "      <td>1</td>\n",
       "      <td>0</td>\n",
       "    </tr>\n",
       "    <tr>\n",
       "      <th>5</th>\n",
       "      <td>2008/2009</td>\n",
       "      <td>2008-08-31</td>\n",
       "      <td>Spain</td>\n",
       "      <td>Real Sporting de Gijón</td>\n",
       "      <td>Getafe CF</td>\n",
       "      <td>1</td>\n",
       "      <td>2</td>\n",
       "      <td>2</td>\n",
       "    </tr>\n",
       "  </tbody>\n",
       "</table>\n",
       "</div>"
      ],
      "text/plain": [
       "      season        date country_name                  home_team  \\\n",
       "0  2008/2009  2008-08-30        Spain                Valencia CF   \n",
       "1  2008/2009  2008-08-31        Spain                 CA Osasuna   \n",
       "2  2008/2009  2008-08-31        Spain  RC Deportivo de La Coruña   \n",
       "3  2008/2009  2008-08-31        Spain                CD Numancia   \n",
       "4  2008/2009  2008-08-31        Spain           Racing Santander   \n",
       "5  2008/2009  2008-08-31        Spain     Real Sporting de Gijón   \n",
       "\n",
       "        away_team  home_team_goal  away_team_goal  result  \n",
       "0    RCD Mallorca               3               0       1  \n",
       "1   Villarreal CF               1               1       0  \n",
       "2  Real Madrid CF               2               1       1  \n",
       "3    FC Barcelona               1               0       1  \n",
       "4      Sevilla FC               1               1       0  \n",
       "5       Getafe CF               1               2       2  "
      ]
     },
     "execution_count": 15,
     "metadata": {},
     "output_type": "execute_result"
    }
   ],
   "source": [
    "df_partidos['result'] = df_partidos.apply (lambda row: result(row), axis=1)\n",
    "df_partidos.head(6)"
   ]
  },
  {
   "cell_type": "markdown",
   "metadata": {},
   "source": [
    "----\n"
   ]
  },
  {
   "cell_type": "markdown",
   "metadata": {},
   "source": [
    "------"
   ]
  },
  {
   "cell_type": "markdown",
   "metadata": {},
   "source": [
    "-----------"
   ]
  },
  {
   "cell_type": "markdown",
   "metadata": {},
   "source": [
    "------"
   ]
  },
  {
   "cell_type": "code",
   "execution_count": 16,
   "metadata": {},
   "outputs": [],
   "source": [
    "# GUARDAR DF\n",
    "df_partidos.to_csv('../data/df_partidos.csv')"
   ]
  },
  {
   "cell_type": "code",
   "execution_count": 17,
   "metadata": {},
   "outputs": [],
   "source": [
    "#Creamos la tabla principal\n",
    "sql = sqlite3.connect('../data/DB_futbol.db')\n",
    "cursor = sql.cursor()\n",
    "\n",
    "lista_valores = df_partidos.values.tolist()\n",
    "\n",
    "cursor.execute('''CREATE TABLE table_partidos(season TEXT, date TEXT, country_name TEXT, home_team TEXT, away_team TEXT, \n",
    "home_team_goal INT, away_team_goal INT, result INT )''')\n",
    "\n",
    "cursor.executemany(\"INSERT INTO table_partidos VALUES (?,?,?,?,?,?,?,?)\", lista_valores)\n",
    "\n",
    "sql.commit()\n",
    "sql.close()"
   ]
  }
 ],
 "metadata": {
  "kernelspec": {
   "display_name": "Python 3.7.4 64-bit",
   "language": "python",
   "name": "python3"
  },
  "language_info": {
   "codemirror_mode": {
    "name": "ipython",
    "version": 3
   },
   "file_extension": ".py",
   "mimetype": "text/x-python",
   "name": "python",
   "nbconvert_exporter": "python",
   "pygments_lexer": "ipython3",
   "version": "3.7.4"
  },
  "orig_nbformat": 4,
  "vscode": {
   "interpreter": {
    "hash": "703e8db34bb7cdd00b82a89d91d2e2137d3ce887601c5554b79c7f8766c7193f"
   }
  }
 },
 "nbformat": 4,
 "nbformat_minor": 2
}
