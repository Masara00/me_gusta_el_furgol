{
 "cells": [
  {
   "cell_type": "code",
   "execution_count": 1,
   "metadata": {},
   "outputs": [],
   "source": [
    "import pandas as pd"
   ]
  },
  {
   "cell_type": "markdown",
   "metadata": {},
   "source": [
    "-----\n",
    "Lista equipos"
   ]
  },
  {
   "cell_type": "code",
   "execution_count": 2,
   "metadata": {},
   "outputs": [],
   "source": [
    "df_partidos = pd.read_csv('../data/df_partidos.csv', index_col=0)"
   ]
  },
  {
   "cell_type": "code",
   "execution_count": 3,
   "metadata": {},
   "outputs": [],
   "source": [
    "lista_equipos=df_partidos['home_team'].unique().tolist()\n",
    "lista_equipos.sort()"
   ]
  },
  {
   "cell_type": "code",
   "execution_count": 4,
   "metadata": {},
   "outputs": [
    {
     "name": "stdout",
     "output_type": "stream",
     "text": [
      "Done\n"
     ]
    }
   ],
   "source": [
    "# Guardar lista de equipos\n",
    "with open(r'../data/lista_equipos.txt', 'w') as fp:\n",
    "    for item in lista_equipos:\n",
    "        # write each item on a new line\n",
    "        fp.write(\"%s\\n\" % item)\n",
    "    print('Done')"
   ]
  },
  {
   "cell_type": "code",
   "execution_count": 5,
   "metadata": {},
   "outputs": [],
   "source": [
    "# Leer lista equipos\n",
    "# lista_equipos = []\n",
    "\n",
    "# with open(r'../data/lista_equipos.txt', 'r') as fp:\n",
    "#     for line in fp:\n",
    "#         # remove linebreak from a current name\n",
    "#         x = line[:-1]\n",
    "#          # add current item to the list\n",
    "#         lista_equipos.append(x)\n",
    "\n",
    "# # display list\n",
    "# print(lista_equipos)"
   ]
  },
  {
   "cell_type": "markdown",
   "metadata": {},
   "source": [
    "----\n",
    "Lista de columnas dummies"
   ]
  },
  {
   "cell_type": "code",
   "execution_count": 6,
   "metadata": {},
   "outputs": [],
   "source": [
    "df_dummies = pd.get_dummies(df_partidos[[\"home_team\", \"away_team\"]])\n",
    "df_partidos_dummies=df_partidos.join(df_dummies)"
   ]
  },
  {
   "cell_type": "code",
   "execution_count": 7,
   "metadata": {},
   "outputs": [],
   "source": [
    "df_partidos_dummies=df_partidos_dummies.iloc[:,8:]\n",
    "# df_partidos_dummies"
   ]
  },
  {
   "cell_type": "code",
   "execution_count": 8,
   "metadata": {},
   "outputs": [],
   "source": [
    "lista_columnas_dummies=df_partidos_dummies.columns\n",
    "# lista_columnas_dummies"
   ]
  },
  {
   "cell_type": "code",
   "execution_count": 9,
   "metadata": {},
   "outputs": [
    {
     "name": "stdout",
     "output_type": "stream",
     "text": [
      "Done\n"
     ]
    }
   ],
   "source": [
    "# Guardar lista de columnas dummies\n",
    "with open(r'../data/lista_columnas_dummies.txt', 'w') as fp:\n",
    "    for item in lista_columnas_dummies:\n",
    "        # write each item on a new line\n",
    "        fp.write(\"%s\\n\" % item)\n",
    "    print('Done')"
   ]
  },
  {
   "cell_type": "code",
   "execution_count": 10,
   "metadata": {},
   "outputs": [],
   "source": [
    "# Leer lista de columnas dummies\n",
    "# lista_columnas_dummies = []\n",
    "\n",
    "# with open(r'../data/lista_columnas_dummies.txt', 'r') as fp:\n",
    "#     for line in fp:\n",
    "#         # remove linebreak from a current name\n",
    "#         x = line[:-1]\n",
    "#          # add current item to the list\n",
    "#         lista_columnas_dummies.append(x)\n",
    "\n",
    "# # display list\n",
    "# print(lista_columnas_dummies)"
   ]
  }
 ],
 "metadata": {
  "kernelspec": {
   "display_name": "Python 3.7.4 64-bit",
   "language": "python",
   "name": "python3"
  },
  "language_info": {
   "codemirror_mode": {
    "name": "ipython",
    "version": 3
   },
   "file_extension": ".py",
   "mimetype": "text/x-python",
   "name": "python",
   "nbconvert_exporter": "python",
   "pygments_lexer": "ipython3",
   "version": "3.7.4"
  },
  "orig_nbformat": 4,
  "vscode": {
   "interpreter": {
    "hash": "703e8db34bb7cdd00b82a89d91d2e2137d3ce887601c5554b79c7f8766c7193f"
   }
  }
 },
 "nbformat": 4,
 "nbformat_minor": 2
}
